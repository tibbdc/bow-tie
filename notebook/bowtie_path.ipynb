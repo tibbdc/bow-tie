{
 "cells": [
  {
   "cell_type": "markdown",
   "metadata": {},
   "source": [
    "# Import packages"
   ]
  },
  {
   "cell_type": "code",
   "execution_count": 1,
   "metadata": {
    "collapsed": false
   },
   "outputs": [],
   "source": [
    "import cobra\n",
    "from cobra import Model, Reaction, Metabolite\n",
    "from cobra.io import read_sbml_model\n",
    "from concurrent.futures import ProcessPoolExecutor, as_completed\n",
    "import os\n",
    "import glob\n",
    "import pandas as pd\n",
    "import time\n",
    "import numpy as np\n",
    "import sys\n",
    "sys.path.append('../code/')\n",
    "from path_analysis_function import *"
   ]
  },
  {
   "cell_type": "markdown",
   "metadata": {},
   "source": [
    "# Input and output files"
   ]
  },
  {
   "cell_type": "code",
   "execution_count": 2,
   "metadata": {
    "collapsed": true
   },
   "outputs": [],
   "source": [
    "modelfile = '../data/external/model/'   #folder containing the models\n",
    "specialgroup=['coa','ACP','thf'] #these name often at the end of the metabolite ID\n",
    "specialgroup_begin=['udp','cdp','adp','gdp','uac'] #these name often at the beginning of the metabolite ID, uac for UDP-N-acetyl\n",
    "interim_save_path = '../data/interim/bowtie_path/' #folder containing intermediate results\n",
    "result_save_path = '../data/result/bowtie_path/' # Bowtie result folders for different models\n",
    "precusors= ['e4p', 'pep', 'r5p', 'oaa', '3pg', 'pyr', 'akg', 'accoa', 'f6p', 'g6p', 'g3p', 'succoa'] #precusors\n",
    "euk_model_list=['iAM_Pb448','iAM_Pc455','iAM_Pf480','iAM_Pk459'] #Eukaryotic model list\n",
    "biggid2name=pd.read_csv(\"../data/external/biggid2name.csv\",index_col=0) #All metabolite ID and Name of BIGG\n",
    "bowtie_path_outputfile = result_save_path+'bowtie_path_total_output.csv'   #All metabolite ID and Name of BIGG\n",
    "bowtie_path_analysis_tablefile = '../data/result/bowtie_path/bowtie_path_analysis_table.csv' #get table2 in the manuscript"
   ]
  },
  {
   "cell_type": "markdown",
   "metadata": {},
   "source": [
    "# Get seed metabolites"
   ]
  },
  {
   "cell_type": "code",
   "execution_count": 3,
   "metadata": {
    "collapsed": false
   },
   "outputs": [
    {
     "name": "stdout",
     "output_type": "stream",
     "text": [
      "iAF692\n",
      "iAF987\n",
      "iAM_Pb448\n",
      "iAM_Pc455\n",
      "iAM_Pf480\n",
      "iAM_Pk459\n",
      "iHN637\n",
      "iJN1463\n",
      "iML1515\n",
      "iPC815\n",
      "iSDY_1059\n",
      "iSF_1195\n",
      "iSSON_1240\n",
      "iSbBS512_1146\n",
      "iYL1228\n",
      "finish\n"
     ]
    }
   ],
   "source": [
    "#read model\n",
    "modelfile_list = sorted(glob.glob(modelfile+'*.xml'), reverse=False)\n",
    "for eachmodelfile in modelfile_list:\n",
    "    #process the model to get a newmodel\n",
    "    #model_name = eachmodelfile.split('\\\\')[1].split('.')[0] #for windows\n",
    "    model_name = eachmodelfile.split('/')[-1].split('.')[0]\n",
    "    print(model_name)\n",
    "    model = read_sbml_model(eachmodelfile)\n",
    "    if not os.path.exists(interim_save_path):\n",
    "        os.makedirs(interim_save_path)\n",
    "    compartments=get_compartments(model)\n",
    "    newmodel=model_preprocess(model,specialgroup,specialgroup_begin,compartments)\n",
    "\n",
    "    # calculate pathways between precusors, select seed metabolites\n",
    "    paths=[]\n",
    "    for pre in precusors:\n",
    "        for pre1 in precusors:\n",
    "            if pre1 != pre:\n",
    "                for compp in compartments:\n",
    "                    pre2=pre+'_'+compp\n",
    "                    pre3=pre1+'_'+compp\n",
    "                    if pre2 in newmodel.metabolites and pre3 in newmodel.metabolites:\n",
    "                        metpair=path(newmodel,pre2,pre3,interim_save_path,specialgroup,specialgroup_begin)\n",
    "                        if not metpair==\"no path\":\n",
    "                            paths.append(metpair)\n",
    "\n",
    "    result_df = pd.DataFrame(paths, columns =['substrate', 'formula','Cs','reduction degree','Crd','product','formula','Cp','reduction degree','Crd','rate', 'path yield','rdyield','difference'])\n",
    "    result_df.to_csv(interim_save_path+model_name+'_precusor_connectivity.csv', header=True, index=False,mode='w')\n",
    "print('finish')"
   ]
  },
  {
   "cell_type": "markdown",
   "metadata": {},
   "source": [
    "# Get bow tie structure"
   ]
  },
  {
   "cell_type": "code",
   "execution_count": null,
   "metadata": {
    "collapsed": false
   },
   "outputs": [
    {
     "name": "stdout",
     "output_type": "stream",
     "text": [
      "iAF692\n",
      "iAM_Pb448iAF987\n",
      "iAM_Pc455iAM_Pf480iAM_Pk459\n",
      "\n",
      "\n",
      "\n",
      "iHN637\n",
      "iJN1463\n",
      "iML1515\n",
      "iPC815\n",
      "iSDY_1059\n",
      "iSF_1195\n",
      "iSSON_1240\n",
      "iSbBS512_1146\n",
      "iYL1228\n"
     ]
    }
   ],
   "source": [
    "#Use parallel computing to achieve multiple models to quickly obtain results\n",
    "def main(): \n",
    "    modelfile_list = sorted(glob.glob(modelfile+'*.xml'), reverse=False)\n",
    "    with ProcessPoolExecutor() as executor:\n",
    "        futures = {executor.submit(bow_tie_structure_for_model,eachmodelfile,specialgroup,specialgroup_begin,euk_model_list,\\\n",
    "                                   result_save_path): eachmodelfile for eachmodelfile in modelfile_list}\n",
    "        \n",
    "if __name__ == '__main__':\n",
    "    start = time.perf_counter()\n",
    "    main()\n",
    "    end = time.perf_counter()\n",
    "    print('Took %.10f seconds.' % (end - start))\n",
    "    print('finish')\n",
    "\n",
    "\n",
    "#If the program stops during parallel computing, you can use the following code to run the models one by one\n",
    "#modelfile_list = sorted(glob.glob(modelfile+'*.xml'), reverse=False)\n",
    "#print(len(modelfile_list))\n",
    "#simgelmodelfile = modelfile_list[8]\n",
    "#bow_tie_structure_for_model(simgelmodelfile, specialgroup, specialgroup_begin, euk_model_list, result_save_path)"
   ]
  },
  {
   "cell_type": "code",
   "execution_count": 35,
   "metadata": {
    "collapsed": false
   },
   "outputs": [
    {
     "name": "stdout",
     "output_type": "stream",
     "text": [
      "../data/result/bowtie_path/iAF692_results.xlsx\n",
      "../data/result/bowtie_path/iAF987_results.xlsx\n",
      "../data/result/bowtie_path/iAM_Pb448_results.xlsx\n",
      "../data/result/bowtie_path/iAM_Pc455_results.xlsx\n",
      "../data/result/bowtie_path/iAM_Pf480_results.xlsx\n",
      "../data/result/bowtie_path/iAM_Pk459_results.xlsx\n",
      "../data/result/bowtie_path/iHN637_results.xlsx\n",
      "../data/result/bowtie_path/iJN1463_results.xlsx\n",
      "../data/result/bowtie_path/iML1515_results.xlsx\n",
      "../data/result/bowtie_path/iPC815_results.xlsx\n",
      "../data/result/bowtie_path/iSDY_1059_results.xlsx\n",
      "../data/result/bowtie_path/iSF_1195_results.xlsx\n",
      "../data/result/bowtie_path/iSSON_1240_results.xlsx\n",
      "../data/result/bowtie_path/iSbBS512_1146_results.xlsx\n",
      "../data/result/bowtie_path/iYL1228_results.xlsx\n",
      "finish\n"
     ]
    }
   ],
   "source": [
    "#Read the Bowtie table, extract each column of metabolites, and determine the category of metabolites in the model\n",
    "#Organize the resulting file into a Bowtie\n",
    "globfiles = sorted(glob.glob(result_save_path+'*_results.xlsx'), reverse=False) \n",
    "#print(globfile1)\n",
    "for filename in globfiles:\n",
    "    print(filename)\n",
    "    #model_name = use_model_file.split('\\\\')[1].split('.')[0] #for windows\n",
    "    model_name = filename.split('/')[-1].split('_results')[0]\n",
    "    model_bowtie = pd.read_excel(filename,sheet_name='bowtie', index_col='metabolite')\n",
    "    for index, row in model_bowtie.iterrows():   \n",
    "        if index in biggid2name.index:\n",
    "            biggid2name.loc[index,model_name]=row['bowtie']\n",
    "\n",
    "biggid2name.to_csv(bowtie_path_outputfile, header=True, index=True,mode='w')\n",
    "print('finish')\n"
   ]
  },
  {
   "cell_type": "code",
   "execution_count": 36,
   "metadata": {
    "collapsed": false
   },
   "outputs": [
    {
     "name": "stdout",
     "output_type": "stream",
     "text": [
      "iAF692\n",
      "iAF987\n",
      "iAM_Pb448\n",
      "iAM_Pc455\n",
      "iAM_Pf480\n",
      "iAM_Pk459\n",
      "iHN637\n",
      "iJN1463\n",
      "iML1515\n",
      "iPC815\n",
      "iSDY_1059\n",
      "iSF_1195\n",
      "iSSON_1240\n",
      "iSbBS512_1146\n",
      "iYL1228\n"
     ]
    }
   ],
   "source": [
    "#Table 2\n",
    "modelfile_list = sorted(glob.glob(modelfile+'*.xml'), reverse=False)\n",
    "bowtie_path_data=pd.read_csv(bowtie_path_outputfile,index_col=0)\n",
    "bowtie_analysis_table = pd.DataFrame()\n",
    "for eachmodelfile in modelfile_list:\n",
    "    #model_name = eachmodelfile.split('\\\\')[1].split('.')[0] #for windows\n",
    "    model_name = eachmodelfile.split('/')[-1].split('.')[0]\n",
    "    print(model_name)\n",
    "    if model_name in bowtie_path_data.columns:\n",
    "        record_has_data = [x for x in bowtie_path_data[model_name] if str(x) != 'nan']\n",
    "        bowtie_analysis_table.loc[model_name,'All Metabolites']=len(record_has_data)\n",
    "        bowtie_analysis_table.loc[model_name,'GSC']=record_has_data.count('GSC')\n",
    "        bowtie_analysis_table.loc[model_name,'IN']=record_has_data.count('IN')\n",
    "        bowtie_analysis_table.loc[model_name,'OUT']=record_has_data.count('OUT')\n",
    "        bowtie_analysis_table.loc[model_name,'IS']=record_has_data.count('IS')\n",
    "\n",
    "bowtie_analysis_table.to_csv(bowtie_path_analysis_tablefile, header=True, index=True,mode='w')\n",
    "print('finish')"
   ]
  },
  {
   "cell_type": "code",
   "execution_count": null,
   "metadata": {
    "collapsed": true
   },
   "outputs": [],
   "source": []
  }
 ],
 "metadata": {
  "kernelspec": {
   "name": "python3",
   "display_name": "Python 3.6.9 64-bit ('enzyme_python': conda)",
   "metadata": {
    "interpreter": {
     "hash": "f09aca8c570770933bc8e36ab92e2e40def5319b75eec09cb13378d4d93d76ce"
    }
   }
  },
  "language_info": {
   "codemirror_mode": {
    "name": "ipython",
    "version": 3
   },
   "file_extension": ".py",
   "mimetype": "text/x-python",
   "name": "python",
   "nbconvert_exporter": "python",
   "pygments_lexer": "ipython3",
   "version": "3.6.9-final"
  }
 },
 "nbformat": 4,
 "nbformat_minor": 2
}